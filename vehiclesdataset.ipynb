
{
 "cells": [
  {
   "cell_type": "code",
   "execution_count": 1,
   "id": "58c09181-697d-4ea2-9609-d35340e96cbd",
   "metadata": {},
   "outputs": [],
   "source": [
    "# 1. Import Libraries\n",
    "import pandas as pd\n",
    "import numpy as np\n",
    "from sklearn.model_selection import train_test_split\n",
    "from sklearn.compose import ColumnTransformer\n",
    "from sklearn.impute import SimpleImputer\n",
    "from sklearn.preprocessing import OneHotEncoder\n",
    "from sklearn.ensemble import HistGradientBoostingRegressor\n",
    "from sklearn.metrics import r2_score\n"
   ]
  },
  {
   "cell_type": "code",
   "execution_count": 2,
   "id": "1cc9b851-ca30-4014-be1b-a268c20f1457",
   "metadata": {},
   "outputs": [],
   "source": [
    "# 2. Load Dataset\n",
    "vehicles_data = pd.read_csv(\"vehicles.csv\")\n"
   ]
  },
  {
   "cell_type": "code",
   "execution_count": 14,
   "id": "26c31430-8058-4a85-9171-45544e76eabf",
   "metadata": {},
   "outputs": [
    {
     "name": "stdout",
     "output_type": "stream",
     "text": [
      "Training until validation scores don't improve for 20 rounds\n",
      "Did not meet early stopping. Best iteration is:\n",
      "[100]\ttraining's rmse: 6442.66\tvalid_1's rmse: 6434.15\n",
      "LightGBM R² Score: 0.8008\n"
     ]
    }
   ],
   "source": [
    "# 2. Prepare features and target\n",
    "X = vehicles_data.drop([\"id\", \"url\", \"region_url\", \"price\", \"image_url\", \"description\", \"county\", \"VIN\"], axis=1)\n",
    "y = vehicles_data[\"price\"]\n",
    "\n",
    "# 3. Define imputers and features\n",
    "median_imputer = SimpleImputer(strategy=\"median\")\n",
    "cat_imputer = SimpleImputer(strategy=\"constant\", fill_value=\"missing\")\n",
    "mean_imputer = SimpleImputer(strategy=\"mean\")\n",
    "\n",
    "median_features = [\"year\"]\n",
    "cat_features = [\"fuel\", \"manufacturer\", \"model\", \"condition\", \"paint_color\", \"cylinders\", \"type\", \"title_status\", \"transmission\", \"drive\", \"size\", \"region\"]\n",
    "mean_features = [\"odometer\"]\n",
    "\n",
    "# 4. Impute missing values with ColumnTransformer\n",
    "imputer = ColumnTransformer([\n",
    "    (\"median_imputer\", median_imputer, median_features),\n",
    "    (\"cat_imputer\", cat_imputer, cat_features),\n",
    "    (\"mean_imputer\", mean_imputer, mean_features)\n",
    "])\n",
    "\n",
    "filled_X = imputer.fit_transform(X)\n",
    "\n",
    "# create dataframe to keep column names (important for ColumnTransformer next step)\n",
    "columns = median_features + cat_features + mean_features\n",
    "filled_df = pd.DataFrame(filled_X, columns=columns)\n",
    "\n",
    "# 5. One-hot encode categorical features\n",
    "one_hot = OneHotEncoder(handle_unknown=\"ignore\", sparse_output=True)\n",
    "\n",
    "transformer = ColumnTransformer([\n",
    "    (\"onehot\", one_hot, cat_features)\n",
    "], remainder=\"passthrough\")\n",
    "\n",
    "transformed_X = transformer.fit_transform(filled_df)\n",
    "\n",
    "\n",
    "\n",
    "# 6. Split dataset\n",
    "X_train, X_test, y_train, y_test = train_test_split(transformed_X, y, test_size=0.3, random_state=42)\n",
    "\n",
    "# 7. Prepare LightGBM datasets (accepts sparse input)\n",
    "lgb_train = lgb.Dataset(X_train, label=y_train)\n",
    "lgb_eval = lgb.Dataset(X_test, label=y_test, reference=lgb_train)\n",
    "\n",
    "# 8. LightGBM parameters (tweak as needed)\n",
    "params = {\n",
    "    'objective': 'regression',\n",
    "    'metric': 'rmse',\n",
    "    'boosting_type': 'gbdt',\n",
    "    'learning_rate': 0.1,\n",
    "    'num_leaves': 31,\n",
    "    'verbose': -1,\n",
    "    'seed': 42\n",
    "}\n",
    "\n",
    "# 9. Train model\n",
    "\n",
    "gbm = lgb.train(\n",
    "    params,\n",
    "    lgb_train,\n",
    "    valid_sets=[lgb_train, lgb_eval],\n",
    "    callbacks=[lgb.early_stopping(stopping_rounds=20)]\n",
    ")\n",
    "\n",
    "\n",
    "# 10. Predict and evaluate\n",
    "y_pred = gbm.predict(X_test)\n",
    "score = r2_score(y_test, y_pred)\n",
    "\n",
    "print(f\"LightGBM R² Score: {score:.4f}\")"
   ]
  },
  {
   "cell_type": "code",
   "execution_count": null,
   "id": "b17b0158-da6a-45c5-a351-7490fe256033",
   "metadata": {},
   "outputs": [],
   "source": []
  }
 ],
 "metadata": {
  "kernelspec": {
   "display_name": "Python 3 (ipykernel)",
   "language": "python",
   "name": "python3"
  },
  "language_info": {
   "codemirror_mode": {
    "name": "ipython",
    "version": 3
   },
   "file_extension": ".py",
   "mimetype": "text/x-python",
   "name": "python",
   "nbconvert_exporter": "python",
   "pygments_lexer": "ipython3",
   "version": "3.12.4"
  }
 },
 "nbformat": 4,
 "nbformat_minor": 5
}
